{
 "cells": [
  {
   "cell_type": "code",
   "execution_count": 1,
   "id": "43c43f4f",
   "metadata": {},
   "outputs": [],
   "source": [
    "import pandas as pd\n",
    "import matplotlib.pyplot as plt\n",
    "import seaborn as sns\n",
    "\n",
    "# Usar um estilo disponível\n",
    "plt.style.use('seaborn')\n",
    "sns.set_palette('Set2')\n",
    "%matplotlib inline\n"
   ]
  },
  {
   "cell_type": "code",
   "execution_count": 2,
   "id": "1d96788a",
   "metadata": {},
   "outputs": [
    {
     "data": {
      "text/html": [
       "<div>\n",
       "<style scoped>\n",
       "    .dataframe tbody tr th:only-of-type {\n",
       "        vertical-align: middle;\n",
       "    }\n",
       "\n",
       "    .dataframe tbody tr th {\n",
       "        vertical-align: top;\n",
       "    }\n",
       "\n",
       "    .dataframe thead th {\n",
       "        text-align: right;\n",
       "    }\n",
       "</style>\n",
       "<table border=\"1\" class=\"dataframe\">\n",
       "  <thead>\n",
       "    <tr style=\"text-align: right;\">\n",
       "      <th></th>\n",
       "      <th>Data</th>\n",
       "      <th>Produto</th>\n",
       "      <th>Categoria</th>\n",
       "      <th>Quantidade</th>\n",
       "      <th>Preco_Unitario</th>\n",
       "      <th>Cidade</th>\n",
       "    </tr>\n",
       "  </thead>\n",
       "  <tbody>\n",
       "    <tr>\n",
       "      <th>0</th>\n",
       "      <td>2025-06-18</td>\n",
       "      <td>Relógio</td>\n",
       "      <td>Acessórios</td>\n",
       "      <td>4</td>\n",
       "      <td>250</td>\n",
       "      <td>São Paulo</td>\n",
       "    </tr>\n",
       "    <tr>\n",
       "      <th>1</th>\n",
       "      <td>2025-05-12</td>\n",
       "      <td>Relógio</td>\n",
       "      <td>Acessórios</td>\n",
       "      <td>2</td>\n",
       "      <td>250</td>\n",
       "      <td>Curitiba</td>\n",
       "    </tr>\n",
       "    <tr>\n",
       "      <th>2</th>\n",
       "      <td>2025-05-06</td>\n",
       "      <td>Relógio</td>\n",
       "      <td>Acessórios</td>\n",
       "      <td>1</td>\n",
       "      <td>250</td>\n",
       "      <td>Porto Alegre</td>\n",
       "    </tr>\n",
       "    <tr>\n",
       "      <th>3</th>\n",
       "      <td>2025-02-28</td>\n",
       "      <td>Calça Jeans</td>\n",
       "      <td>Roupas</td>\n",
       "      <td>2</td>\n",
       "      <td>120</td>\n",
       "      <td>São Paulo</td>\n",
       "    </tr>\n",
       "    <tr>\n",
       "      <th>4</th>\n",
       "      <td>2025-06-15</td>\n",
       "      <td>Jaqueta</td>\n",
       "      <td>Roupas</td>\n",
       "      <td>1</td>\n",
       "      <td>180</td>\n",
       "      <td>Salvador</td>\n",
       "    </tr>\n",
       "  </tbody>\n",
       "</table>\n",
       "</div>"
      ],
      "text/plain": [
       "         Data      Produto   Categoria  Quantidade  Preco_Unitario  \\\n",
       "0  2025-06-18      Relógio  Acessórios           4             250   \n",
       "1  2025-05-12      Relógio  Acessórios           2             250   \n",
       "2  2025-05-06      Relógio  Acessórios           1             250   \n",
       "3  2025-02-28  Calça Jeans      Roupas           2             120   \n",
       "4  2025-06-15      Jaqueta      Roupas           1             180   \n",
       "\n",
       "         Cidade  \n",
       "0     São Paulo  \n",
       "1      Curitiba  \n",
       "2  Porto Alegre  \n",
       "3     São Paulo  \n",
       "4      Salvador  "
      ]
     },
     "execution_count": 2,
     "metadata": {},
     "output_type": "execute_result"
    }
   ],
   "source": [
    "caminho_arquivo = '../Dados/vendas.csv'\n",
    "df = pd.read_csv(caminho_arquivo)\n",
    "df.head()"
   ]
  },
  {
   "cell_type": "code",
   "execution_count": 3,
   "id": "8c0cdabf",
   "metadata": {},
   "outputs": [
    {
     "name": "stdout",
     "output_type": "stream",
     "text": [
      "<class 'pandas.core.frame.DataFrame'>\n",
      "RangeIndex: 200 entries, 0 to 199\n",
      "Data columns (total 6 columns):\n",
      " #   Column          Non-Null Count  Dtype \n",
      "---  ------          --------------  ----- \n",
      " 0   Data            200 non-null    object\n",
      " 1   Produto         200 non-null    object\n",
      " 2   Categoria       200 non-null    object\n",
      " 3   Quantidade      200 non-null    int64 \n",
      " 4   Preco_Unitario  200 non-null    int64 \n",
      " 5   Cidade          200 non-null    object\n",
      "dtypes: int64(2), object(4)\n",
      "memory usage: 9.5+ KB\n"
     ]
    }
   ],
   "source": [
    "#Mostrar informações gerais sobre o DataFrame\n",
    "df.info()"
   ]
  },
  {
   "cell_type": "code",
   "execution_count": 4,
   "id": "b62ac57d",
   "metadata": {},
   "outputs": [
    {
     "data": {
      "text/html": [
       "<div>\n",
       "<style scoped>\n",
       "    .dataframe tbody tr th:only-of-type {\n",
       "        vertical-align: middle;\n",
       "    }\n",
       "\n",
       "    .dataframe tbody tr th {\n",
       "        vertical-align: top;\n",
       "    }\n",
       "\n",
       "    .dataframe thead th {\n",
       "        text-align: right;\n",
       "    }\n",
       "</style>\n",
       "<table border=\"1\" class=\"dataframe\">\n",
       "  <thead>\n",
       "    <tr style=\"text-align: right;\">\n",
       "      <th></th>\n",
       "      <th>Quantidade</th>\n",
       "      <th>Preco_Unitario</th>\n",
       "    </tr>\n",
       "  </thead>\n",
       "  <tbody>\n",
       "    <tr>\n",
       "      <th>count</th>\n",
       "      <td>200.000000</td>\n",
       "      <td>200.000000</td>\n",
       "    </tr>\n",
       "    <tr>\n",
       "      <th>mean</th>\n",
       "      <td>2.940000</td>\n",
       "      <td>124.450000</td>\n",
       "    </tr>\n",
       "    <tr>\n",
       "      <th>std</th>\n",
       "      <td>1.412934</td>\n",
       "      <td>82.423697</td>\n",
       "    </tr>\n",
       "    <tr>\n",
       "      <th>min</th>\n",
       "      <td>1.000000</td>\n",
       "      <td>35.000000</td>\n",
       "    </tr>\n",
       "    <tr>\n",
       "      <th>25%</th>\n",
       "      <td>2.000000</td>\n",
       "      <td>40.000000</td>\n",
       "    </tr>\n",
       "    <tr>\n",
       "      <th>50%</th>\n",
       "      <td>3.000000</td>\n",
       "      <td>120.000000</td>\n",
       "    </tr>\n",
       "    <tr>\n",
       "      <th>75%</th>\n",
       "      <td>4.000000</td>\n",
       "      <td>200.000000</td>\n",
       "    </tr>\n",
       "    <tr>\n",
       "      <th>max</th>\n",
       "      <td>5.000000</td>\n",
       "      <td>250.000000</td>\n",
       "    </tr>\n",
       "  </tbody>\n",
       "</table>\n",
       "</div>"
      ],
      "text/plain": [
       "       Quantidade  Preco_Unitario\n",
       "count  200.000000      200.000000\n",
       "mean     2.940000      124.450000\n",
       "std      1.412934       82.423697\n",
       "min      1.000000       35.000000\n",
       "25%      2.000000       40.000000\n",
       "50%      3.000000      120.000000\n",
       "75%      4.000000      200.000000\n",
       "max      5.000000      250.000000"
      ]
     },
     "execution_count": 4,
     "metadata": {},
     "output_type": "execute_result"
    }
   ],
   "source": [
    "#Mostrar estatísticas básicas das colunas numéricas\n",
    "df.describe()"
   ]
  },
  {
   "cell_type": "code",
   "execution_count": 5,
   "id": "c685aa47",
   "metadata": {},
   "outputs": [
    {
     "data": {
      "text/plain": [
       "Data              0\n",
       "Produto           0\n",
       "Categoria         0\n",
       "Quantidade        0\n",
       "Preco_Unitario    0\n",
       "Cidade            0\n",
       "dtype: int64"
      ]
     },
     "execution_count": 5,
     "metadata": {},
     "output_type": "execute_result"
    }
   ],
   "source": [
    "#Verificar se há valores nulos em cada coluna\n",
    "df.isnull().sum()"
   ]
  },
  {
   "cell_type": "code",
   "execution_count": 6,
   "id": "c9ba0672",
   "metadata": {},
   "outputs": [
    {
     "data": {
      "text/plain": [
       "0      True\n",
       "1      True\n",
       "2      True\n",
       "3      True\n",
       "4      True\n",
       "       ... \n",
       "195    True\n",
       "196    True\n",
       "197    True\n",
       "198    True\n",
       "199    True\n",
       "Name: Data, Length: 200, dtype: bool"
      ]
     },
     "execution_count": 6,
     "metadata": {},
     "output_type": "execute_result"
    }
   ],
   "source": [
    "#Converter coluna 'data' para datetime\n",
    "df['Data'] == pd.to_datetime(df['Data'])"
   ]
  },
  {
   "cell_type": "code",
   "execution_count": 7,
   "id": "cff00db8",
   "metadata": {},
   "outputs": [],
   "source": [
    "#Criar uma coluna com o 'Faturamento' multiplicando pelo preço unitário\n",
    "df['Faturamento'] = df['Quantidade'] * df['Preco_Unitario']"
   ]
  },
  {
   "cell_type": "code",
   "execution_count": 8,
   "id": "360a0b21",
   "metadata": {},
   "outputs": [
    {
     "data": {
      "text/html": [
       "<div>\n",
       "<style scoped>\n",
       "    .dataframe tbody tr th:only-of-type {\n",
       "        vertical-align: middle;\n",
       "    }\n",
       "\n",
       "    .dataframe tbody tr th {\n",
       "        vertical-align: top;\n",
       "    }\n",
       "\n",
       "    .dataframe thead th {\n",
       "        text-align: right;\n",
       "    }\n",
       "</style>\n",
       "<table border=\"1\" class=\"dataframe\">\n",
       "  <thead>\n",
       "    <tr style=\"text-align: right;\">\n",
       "      <th></th>\n",
       "      <th>Data</th>\n",
       "      <th>Produto</th>\n",
       "      <th>Categoria</th>\n",
       "      <th>Quantidade</th>\n",
       "      <th>Preco_Unitario</th>\n",
       "      <th>Cidade</th>\n",
       "      <th>Faturamento</th>\n",
       "    </tr>\n",
       "  </thead>\n",
       "  <tbody>\n",
       "    <tr>\n",
       "      <th>0</th>\n",
       "      <td>2025-06-18</td>\n",
       "      <td>Relógio</td>\n",
       "      <td>Acessórios</td>\n",
       "      <td>4</td>\n",
       "      <td>250</td>\n",
       "      <td>São Paulo</td>\n",
       "      <td>1000</td>\n",
       "    </tr>\n",
       "    <tr>\n",
       "      <th>1</th>\n",
       "      <td>2025-05-12</td>\n",
       "      <td>Relógio</td>\n",
       "      <td>Acessórios</td>\n",
       "      <td>2</td>\n",
       "      <td>250</td>\n",
       "      <td>Curitiba</td>\n",
       "      <td>500</td>\n",
       "    </tr>\n",
       "    <tr>\n",
       "      <th>2</th>\n",
       "      <td>2025-05-06</td>\n",
       "      <td>Relógio</td>\n",
       "      <td>Acessórios</td>\n",
       "      <td>1</td>\n",
       "      <td>250</td>\n",
       "      <td>Porto Alegre</td>\n",
       "      <td>250</td>\n",
       "    </tr>\n",
       "    <tr>\n",
       "      <th>3</th>\n",
       "      <td>2025-02-28</td>\n",
       "      <td>Calça Jeans</td>\n",
       "      <td>Roupas</td>\n",
       "      <td>2</td>\n",
       "      <td>120</td>\n",
       "      <td>São Paulo</td>\n",
       "      <td>240</td>\n",
       "    </tr>\n",
       "    <tr>\n",
       "      <th>4</th>\n",
       "      <td>2025-06-15</td>\n",
       "      <td>Jaqueta</td>\n",
       "      <td>Roupas</td>\n",
       "      <td>1</td>\n",
       "      <td>180</td>\n",
       "      <td>Salvador</td>\n",
       "      <td>180</td>\n",
       "    </tr>\n",
       "  </tbody>\n",
       "</table>\n",
       "</div>"
      ],
      "text/plain": [
       "         Data      Produto   Categoria  Quantidade  Preco_Unitario  \\\n",
       "0  2025-06-18      Relógio  Acessórios           4             250   \n",
       "1  2025-05-12      Relógio  Acessórios           2             250   \n",
       "2  2025-05-06      Relógio  Acessórios           1             250   \n",
       "3  2025-02-28  Calça Jeans      Roupas           2             120   \n",
       "4  2025-06-15      Jaqueta      Roupas           1             180   \n",
       "\n",
       "         Cidade  Faturamento  \n",
       "0     São Paulo         1000  \n",
       "1      Curitiba          500  \n",
       "2  Porto Alegre          250  \n",
       "3     São Paulo          240  \n",
       "4      Salvador          180  "
      ]
     },
     "execution_count": 8,
     "metadata": {},
     "output_type": "execute_result"
    }
   ],
   "source": [
    "#Mostar as 5 primeiras linhas\n",
    "df.head()"
   ]
  },
  {
   "cell_type": "code",
   "execution_count": 9,
   "id": "bd5c29a5",
   "metadata": {},
   "outputs": [
    {
     "name": "stdout",
     "output_type": "stream",
     "text": [
      "Faturamento total: R$72,970.00\n"
     ]
    }
   ],
   "source": [
    "#Mostrar resultado formatado em reais\n",
    "faturamento_total = df['Faturamento'].sum()\n",
    "print(f\"Faturamento total: R${faturamento_total:,.2f}\")"
   ]
  },
  {
   "cell_type": "code",
   "execution_count": 10,
   "id": "124fa07d",
   "metadata": {},
   "outputs": [],
   "source": [
    "#Garantir que 'Data' está no formato datetime\n",
    "df['Data'] = pd.to_datetime(df['Data'])"
   ]
  },
  {
   "cell_type": "code",
   "execution_count": 11,
   "id": "f697b6dc",
   "metadata": {},
   "outputs": [],
   "source": [
    "#Criar coluna 'Mes' no formato YYYY-MM\n",
    "df['Mes'] = df['Data'].dt.to_period('M')"
   ]
  },
  {
   "cell_type": "code",
   "execution_count": 12,
   "id": "effa7fd1",
   "metadata": {},
   "outputs": [
    {
     "name": "stdout",
     "output_type": "stream",
     "text": [
      "       Mes  Faturamento\n",
      "0  2025-01        15420\n",
      "1  2025-02         6715\n",
      "2  2025-03        15625\n",
      "3  2025-04        10275\n",
      "4  2025-05        12620\n",
      "5  2025-06        12315\n"
     ]
    }
   ],
   "source": [
    "#Calcular faturamento do mês\n",
    "faturamento_mensal = df.groupby('Mes')['Faturamento'].sum().reset_index()\n",
    "print(faturamento_mensal)"
   ]
  },
  {
   "cell_type": "code",
   "execution_count": 13,
   "id": "b3f0268c",
   "metadata": {},
   "outputs": [],
   "source": [
    "#Produto mais vendido (Quantidade)\n",
    "produto_mais_vendido = df.groupby('Produto')['Quantidade'].sum().reset_index()"
   ]
  },
  {
   "cell_type": "code",
   "execution_count": 14,
   "id": "8febd709",
   "metadata": {},
   "outputs": [],
   "source": [
    "#Ordenar maior para menor\n",
    "produto_mais_vendido = produto_mais_vendido.sort_values(by = 'Quantidade', ascending = False)"
   ]
  },
  {
   "cell_type": "code",
   "execution_count": 15,
   "id": "01ca295b",
   "metadata": {},
   "outputs": [
    {
     "data": {
      "text/html": [
       "<div>\n",
       "<style scoped>\n",
       "    .dataframe tbody tr th:only-of-type {\n",
       "        vertical-align: middle;\n",
       "    }\n",
       "\n",
       "    .dataframe tbody tr th {\n",
       "        vertical-align: top;\n",
       "    }\n",
       "\n",
       "    .dataframe thead th {\n",
       "        text-align: right;\n",
       "    }\n",
       "</style>\n",
       "<table border=\"1\" class=\"dataframe\">\n",
       "  <thead>\n",
       "    <tr style=\"text-align: right;\">\n",
       "      <th></th>\n",
       "      <th>Produto</th>\n",
       "      <th>Quantidade</th>\n",
       "    </tr>\n",
       "  </thead>\n",
       "  <tbody>\n",
       "    <tr>\n",
       "      <th>4</th>\n",
       "      <td>Jaqueta</td>\n",
       "      <td>95</td>\n",
       "    </tr>\n",
       "    <tr>\n",
       "      <th>2</th>\n",
       "      <td>Camiseta</td>\n",
       "      <td>94</td>\n",
       "    </tr>\n",
       "    <tr>\n",
       "      <th>3</th>\n",
       "      <td>Chinelo</td>\n",
       "      <td>90</td>\n",
       "    </tr>\n",
       "    <tr>\n",
       "      <th>5</th>\n",
       "      <td>Relógio</td>\n",
       "      <td>87</td>\n",
       "    </tr>\n",
       "    <tr>\n",
       "      <th>0</th>\n",
       "      <td>Boné</td>\n",
       "      <td>84</td>\n",
       "    </tr>\n",
       "  </tbody>\n",
       "</table>\n",
       "</div>"
      ],
      "text/plain": [
       "    Produto  Quantidade\n",
       "4   Jaqueta          95\n",
       "2  Camiseta          94\n",
       "3   Chinelo          90\n",
       "5   Relógio          87\n",
       "0      Boné          84"
      ]
     },
     "execution_count": 15,
     "metadata": {},
     "output_type": "execute_result"
    }
   ],
   "source": [
    "produto_mais_vendido.head()"
   ]
  },
  {
   "cell_type": "code",
   "execution_count": 16,
   "id": "3138a52c",
   "metadata": {},
   "outputs": [],
   "source": [
    "#Agrupando por 'Categoria' e somando 'Faturamento'\n",
    "faturamento_categoria = df.groupby('Categoria')['Faturamento'].sum().reset_index()"
   ]
  },
  {
   "cell_type": "code",
   "execution_count": 17,
   "id": "1ddef1f8",
   "metadata": {},
   "outputs": [],
   "source": [
    "#Ordenar maior para menor faturamento\n",
    "faturamento_categoria = faturamento_categoria.sort_values(by = 'Faturamento', ascending = False)"
   ]
  },
  {
   "cell_type": "code",
   "execution_count": 18,
   "id": "d8e0d93b",
   "metadata": {},
   "outputs": [
    {
     "data": {
      "text/html": [
       "<div>\n",
       "<style scoped>\n",
       "    .dataframe tbody tr th:only-of-type {\n",
       "        vertical-align: middle;\n",
       "    }\n",
       "\n",
       "    .dataframe tbody tr th {\n",
       "        vertical-align: top;\n",
       "    }\n",
       "\n",
       "    .dataframe thead th {\n",
       "        text-align: right;\n",
       "    }\n",
       "</style>\n",
       "<table border=\"1\" class=\"dataframe\">\n",
       "  <thead>\n",
       "    <tr style=\"text-align: right;\">\n",
       "      <th></th>\n",
       "      <th>Categoria</th>\n",
       "      <th>Faturamento</th>\n",
       "    </tr>\n",
       "  </thead>\n",
       "  <tbody>\n",
       "    <tr>\n",
       "      <th>2</th>\n",
       "      <td>Roupas</td>\n",
       "      <td>28880</td>\n",
       "    </tr>\n",
       "    <tr>\n",
       "      <th>0</th>\n",
       "      <td>Acessórios</td>\n",
       "      <td>24690</td>\n",
       "    </tr>\n",
       "    <tr>\n",
       "      <th>1</th>\n",
       "      <td>Calçados</td>\n",
       "      <td>19400</td>\n",
       "    </tr>\n",
       "  </tbody>\n",
       "</table>\n",
       "</div>"
      ],
      "text/plain": [
       "    Categoria  Faturamento\n",
       "2      Roupas        28880\n",
       "0  Acessórios        24690\n",
       "1    Calçados        19400"
      ]
     },
     "execution_count": 18,
     "metadata": {},
     "output_type": "execute_result"
    }
   ],
   "source": [
    "faturamento_categoria"
   ]
  },
  {
   "cell_type": "code",
   "execution_count": 19,
   "id": "a1481825",
   "metadata": {},
   "outputs": [
    {
     "data": {
      "text/plain": [
       "<function matplotlib.pyplot.show(close=None, block=None)>"
      ]
     },
     "execution_count": 19,
     "metadata": {},
     "output_type": "execute_result"
    },
    {
     "data": {
      "image/png": "[encoded data removed]",
      "text/plain": [
       "<Figure size 1500x500 with 1 Axes>"
      ]
     },
     "metadata": {},
     "output_type": "display_data"
    }
   ],
   "source": [
    "#Vendas por mês e o gráfico\n",
    "vendas_por_mes = df.groupby('Mes')['Faturamento'].sum().reset_index()\n",
    "plt.figure(figsize = (15, 5))\n",
    "plt.plot(vendas_por_mes['Mes'].astype(str), vendas_por_mes['Faturamento'], marker = 'o')\n",
    "plt.title('Faturamento por mês')\n",
    "plt.xlabel('Mês')\n",
    "plt.ylabel('Faturamento (R$)')\n",
    "plt.grid(True)\n",
    "plt.show"
   ]
  },
  {
   "cell_type": "code",
   "execution_count": 20,
   "id": "becfbe73",
   "metadata": {},
   "outputs": [],
   "source": [
    "#Top 5 cidades com maior faturamento\n",
    "top_cidades = df.groupby('Cidade')['Faturamento'].sum().reset_index()"
   ]
  },
  {
   "cell_type": "code",
   "execution_count": 21,
   "id": "1a5b08dd",
   "metadata": {},
   "outputs": [],
   "source": [
    "#Ordenar maior para menor\n",
    "top_cidades = top_cidades.sort_values(by = 'Faturamento', ascending = False).head(5)"
   ]
  },
  {
   "cell_type": "code",
   "execution_count": 22,
   "id": "fa6f37d1",
   "metadata": {},
   "outputs": [
    {
     "name": "stdout",
     "output_type": "stream",
     "text": [
      "         Cidade  Faturamento\n",
      "2  Porto Alegre        12635\n",
      "1      Curitiba        12115\n",
      "6     São Paulo        10885\n",
      "5      Salvador        10320\n",
      "3        Recife        10200\n"
     ]
    }
   ],
   "source": [
    "print(top_cidades)"
   ]
  },
  {
   "cell_type": "code",
   "execution_count": 23,
   "id": "026e8e31",
   "metadata": {
    "scrolled": true
   },
   "outputs": [
    {
     "data": {
      "text/plain": [
       "<function matplotlib.pyplot.show(close=None, block=None)>"
      ]
     },
     "execution_count": 23,
     "metadata": {},
     "output_type": "execute_result"
    },
    {
     "data": {
      "image/png": "[encoded data removed]",
      "text/plain": [
       "<Figure size 1500x500 with 1 Axes>"
      ]
     },
     "metadata": {},
     "output_type": "display_data"
    }
   ],
   "source": [
    "#Gráficos de barras\n",
    "plt.figure(figsize = (15, 5))\n",
    "plt.bar(top_cidades['Cidade'], top_cidades['Faturamento'])\n",
    "plt.title('Top 5 cidades com Maior Faturamento')\n",
    "plt.xlabel('Cidade')\n",
    "plt.ylabel('Faturamento (R$)')\n",
    "plt.xticks(rotation = 80)\n",
    "plt.show"
   ]
  },
  {
   "cell_type": "code",
   "execution_count": null,
   "id": "718d16a0",
   "metadata": {},
   "outputs": [],
   "source": []
  }
 ],
 "metadata": {
  "kernelspec": {
   "display_name": "Python 3 (ipykernel)",
   "language": "python",
   "name": "python3"
  },
  "language_info": {
   "codemirror_mode": {
    "name": "ipython",
    "version": 3
   },
   "file_extension": ".py",
   "mimetype": "text/x-python",
   "name": "python",
   "nbconvert_exporter": "python",
   "pygments_lexer": "ipython3",
   "version": "3.9.13"
  }
 },
 "nbformat": 4,
 "nbformat_minor": 5
}
